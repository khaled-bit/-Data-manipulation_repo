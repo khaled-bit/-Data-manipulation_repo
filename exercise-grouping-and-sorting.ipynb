{
 "cells": [
  {
   "cell_type": "markdown",
   "id": "3b0e289d",
   "metadata": {
    "papermill": {
     "duration": 0.005921,
     "end_time": "2022-07-22T09:31:59.571327",
     "exception": false,
     "start_time": "2022-07-22T09:31:59.565406",
     "status": "completed"
    },
    "tags": []
   },
   "source": [
    "**This notebook is an exercise in the [Pandas](https://www.kaggle.com/learn/pandas) course.  You can reference the tutorial at [this link](https://www.kaggle.com/residentmario/grouping-and-sorting).**\n",
    "\n",
    "---\n"
   ]
  },
  {
   "cell_type": "markdown",
   "id": "8567afab",
   "metadata": {
    "papermill": {
     "duration": 0.004496,
     "end_time": "2022-07-22T09:31:59.580800",
     "exception": false,
     "start_time": "2022-07-22T09:31:59.576304",
     "status": "completed"
    },
    "tags": []
   },
   "source": [
    "# Introduction\n",
    "\n",
    "In these exercises we'll apply groupwise analysis to our dataset.\n",
    "\n",
    "Run the code cell below to load the data before running the exercises."
   ]
  },
  {
   "cell_type": "code",
   "execution_count": 1,
   "id": "7dcfa065",
   "metadata": {
    "execution": {
     "iopub.execute_input": "2022-07-22T09:31:59.592067Z",
     "iopub.status.busy": "2022-07-22T09:31:59.591620Z",
     "iopub.status.idle": "2022-07-22T09:32:02.382463Z",
     "shell.execute_reply": "2022-07-22T09:32:02.380895Z"
    },
    "papermill": {
     "duration": 2.799798,
     "end_time": "2022-07-22T09:32:02.385285",
     "exception": false,
     "start_time": "2022-07-22T09:31:59.585487",
     "status": "completed"
    },
    "tags": []
   },
   "outputs": [
    {
     "name": "stdout",
     "output_type": "stream",
     "text": [
      "Setup complete.\n"
     ]
    }
   ],
   "source": [
    "import pandas as pd\n",
    "\n",
    "reviews = pd.read_csv(\"../input/wine-reviews/winemag-data-130k-v2.csv\", index_col=0)\n",
    "#pd.set_option(\"display.max_rows\", 5)\n",
    "\n",
    "from learntools.core import binder; binder.bind(globals())\n",
    "from learntools.pandas.grouping_and_sorting import *\n",
    "print(\"Setup complete.\")"
   ]
  },
  {
   "cell_type": "markdown",
   "id": "7ca0247e",
   "metadata": {
    "papermill": {
     "duration": 0.004789,
     "end_time": "2022-07-22T09:32:02.395283",
     "exception": false,
     "start_time": "2022-07-22T09:32:02.390494",
     "status": "completed"
    },
    "tags": []
   },
   "source": [
    "# Exercises"
   ]
  },
  {
   "cell_type": "markdown",
   "id": "026951ab",
   "metadata": {
    "papermill": {
     "duration": 0.005577,
     "end_time": "2022-07-22T09:32:02.405945",
     "exception": false,
     "start_time": "2022-07-22T09:32:02.400368",
     "status": "completed"
    },
    "tags": []
   },
   "source": [
    "## 1.\n",
    "Who are the most common wine reviewers in the dataset? Create a `Series` whose index is the `taster_twitter_handle` category from the dataset, and whose values count how many reviews each person wrote."
   ]
  },
  {
   "cell_type": "code",
   "execution_count": 2,
   "id": "a008d9f7",
   "metadata": {
    "execution": {
     "iopub.execute_input": "2022-07-22T09:32:02.418426Z",
     "iopub.status.busy": "2022-07-22T09:32:02.417762Z",
     "iopub.status.idle": "2022-07-22T09:32:02.445822Z",
     "shell.execute_reply": "2022-07-22T09:32:02.444584Z"
    },
    "papermill": {
     "duration": 0.036891,
     "end_time": "2022-07-22T09:32:02.448210",
     "exception": false,
     "start_time": "2022-07-22T09:32:02.411319",
     "status": "completed"
    },
    "tags": []
   },
   "outputs": [
    {
     "data": {
      "application/javascript": [
       "parent.postMessage({\"jupyterEvent\": \"custom.exercise_interaction\", \"data\": {\"outcomeType\": 1, \"valueTowardsCompletion\": 0.16666666666666666, \"interactionType\": 1, \"questionType\": 1, \"questionId\": \"1_ReviewsWritten\", \"learnToolsVersion\": \"0.3.4\", \"failureMessage\": \"\", \"exceptionClass\": \"\", \"trace\": \"\"}}, \"*\")"
      ],
      "text/plain": [
       "<IPython.core.display.Javascript object>"
      ]
     },
     "metadata": {},
     "output_type": "display_data"
    },
    {
     "data": {
      "text/markdown": [
       "<span style=\"color:#33cc33\">Correct:</span> \n",
       "\n",
       "\n",
       "```python\n",
       "reviews_written = reviews.groupby('taster_twitter_handle').size()\n",
       "```\n",
       "or\n",
       "```python\n",
       "reviews_written = reviews.groupby('taster_twitter_handle').taster_twitter_handle.count()\n",
       "```\n"
      ],
      "text/plain": [
       "Correct: \n",
       "\n",
       "\n",
       "```python\n",
       "reviews_written = reviews.groupby('taster_twitter_handle').size()\n",
       "```\n",
       "or\n",
       "```python\n",
       "reviews_written = reviews.groupby('taster_twitter_handle').taster_twitter_handle.count()\n",
       "```"
      ]
     },
     "metadata": {},
     "output_type": "display_data"
    }
   ],
   "source": [
    "# Your code here\n",
    "reviews_written = reviews.groupby('taster_twitter_handle').taster_twitter_handle.count()\n",
    "\n",
    "# Check your answer\n",
    "q1.check()"
   ]
  },
  {
   "cell_type": "code",
   "execution_count": 3,
   "id": "9a0c676d",
   "metadata": {
    "execution": {
     "iopub.execute_input": "2022-07-22T09:32:02.460118Z",
     "iopub.status.busy": "2022-07-22T09:32:02.459738Z",
     "iopub.status.idle": "2022-07-22T09:32:02.463988Z",
     "shell.execute_reply": "2022-07-22T09:32:02.462892Z"
    },
    "papermill": {
     "duration": 0.012905,
     "end_time": "2022-07-22T09:32:02.466305",
     "exception": false,
     "start_time": "2022-07-22T09:32:02.453400",
     "status": "completed"
    },
    "tags": []
   },
   "outputs": [],
   "source": [
    "#q1.hint()\n",
    "#q1.solution()"
   ]
  },
  {
   "cell_type": "markdown",
   "id": "57be3b94",
   "metadata": {
    "papermill": {
     "duration": 0.005126,
     "end_time": "2022-07-22T09:32:02.476577",
     "exception": false,
     "start_time": "2022-07-22T09:32:02.471451",
     "status": "completed"
    },
    "tags": []
   },
   "source": [
    "## 2.\n",
    "What is the best wine I can buy for a given amount of money? Create a `Series` whose index is wine prices and whose values is the maximum number of points a wine costing that much was given in a review. Sort the values by price, ascending (so that `4.0` dollars is at the top and `3300.0` dollars is at the bottom)."
   ]
  },
  {
   "cell_type": "code",
   "execution_count": 4,
   "id": "8901da0a",
   "metadata": {
    "execution": {
     "iopub.execute_input": "2022-07-22T09:32:02.488053Z",
     "iopub.status.busy": "2022-07-22T09:32:02.487698Z",
     "iopub.status.idle": "2022-07-22T09:32:02.501197Z",
     "shell.execute_reply": "2022-07-22T09:32:02.500410Z"
    },
    "papermill": {
     "duration": 0.021582,
     "end_time": "2022-07-22T09:32:02.503145",
     "exception": false,
     "start_time": "2022-07-22T09:32:02.481563",
     "status": "completed"
    },
    "tags": []
   },
   "outputs": [
    {
     "data": {
      "application/javascript": [
       "parent.postMessage({\"jupyterEvent\": \"custom.exercise_interaction\", \"data\": {\"outcomeType\": 1, \"valueTowardsCompletion\": 0.16666666666666666, \"interactionType\": 1, \"questionType\": 1, \"questionId\": \"2_BestRatingPerPrice\", \"learnToolsVersion\": \"0.3.4\", \"failureMessage\": \"\", \"exceptionClass\": \"\", \"trace\": \"\"}}, \"*\")"
      ],
      "text/plain": [
       "<IPython.core.display.Javascript object>"
      ]
     },
     "metadata": {},
     "output_type": "display_data"
    },
    {
     "data": {
      "text/markdown": [
       "<span style=\"color:#33cc33\">Correct</span>"
      ],
      "text/plain": [
       "Correct"
      ]
     },
     "metadata": {},
     "output_type": "display_data"
    }
   ],
   "source": [
    "best_rating_per_price = reviews.groupby('price').points.max().sort_index()\n",
    "#best_rating_per_price = reviews.groupby('price')['points'].max().sort_index()\n",
    "# Check your answer\n",
    "q2.check()"
   ]
  },
  {
   "cell_type": "code",
   "execution_count": 5,
   "id": "3a50250a",
   "metadata": {
    "execution": {
     "iopub.execute_input": "2022-07-22T09:32:02.516100Z",
     "iopub.status.busy": "2022-07-22T09:32:02.514972Z",
     "iopub.status.idle": "2022-07-22T09:32:02.519860Z",
     "shell.execute_reply": "2022-07-22T09:32:02.519064Z"
    },
    "papermill": {
     "duration": 0.013465,
     "end_time": "2022-07-22T09:32:02.521893",
     "exception": false,
     "start_time": "2022-07-22T09:32:02.508428",
     "status": "completed"
    },
    "tags": []
   },
   "outputs": [],
   "source": [
    "#q2.hint()\n",
    "#q2.solution()"
   ]
  },
  {
   "cell_type": "markdown",
   "id": "9c981f2a",
   "metadata": {
    "papermill": {
     "duration": 0.005047,
     "end_time": "2022-07-22T09:32:02.532215",
     "exception": false,
     "start_time": "2022-07-22T09:32:02.527168",
     "status": "completed"
    },
    "tags": []
   },
   "source": [
    "## 3.\n",
    "What are the minimum and maximum prices for each `variety` of wine? Create a `DataFrame` whose index is the `variety` category from the dataset and whose values are the `min` and `max` values thereof."
   ]
  },
  {
   "cell_type": "code",
   "execution_count": 6,
   "id": "42b38a9d",
   "metadata": {
    "execution": {
     "iopub.execute_input": "2022-07-22T09:32:02.545171Z",
     "iopub.status.busy": "2022-07-22T09:32:02.544142Z",
     "iopub.status.idle": "2022-07-22T09:32:02.567352Z",
     "shell.execute_reply": "2022-07-22T09:32:02.566322Z"
    },
    "papermill": {
     "duration": 0.031776,
     "end_time": "2022-07-22T09:32:02.569360",
     "exception": false,
     "start_time": "2022-07-22T09:32:02.537584",
     "status": "completed"
    },
    "tags": []
   },
   "outputs": [
    {
     "data": {
      "application/javascript": [
       "parent.postMessage({\"jupyterEvent\": \"custom.exercise_interaction\", \"data\": {\"outcomeType\": 1, \"valueTowardsCompletion\": 0.16666666666666666, \"interactionType\": 1, \"questionType\": 1, \"questionId\": \"3_PriceExtremes\", \"learnToolsVersion\": \"0.3.4\", \"failureMessage\": \"\", \"exceptionClass\": \"\", \"trace\": \"\"}}, \"*\")"
      ],
      "text/plain": [
       "<IPython.core.display.Javascript object>"
      ]
     },
     "metadata": {},
     "output_type": "display_data"
    },
    {
     "data": {
      "text/markdown": [
       "<span style=\"color:#33cc33\">Correct</span>"
      ],
      "text/plain": [
       "Correct"
      ]
     },
     "metadata": {},
     "output_type": "display_data"
    }
   ],
   "source": [
    "price_extremes = reviews.groupby(['variety']).price.agg([min,max])\n",
    "\n",
    "# Check your answer\n",
    "q3.check()"
   ]
  },
  {
   "cell_type": "code",
   "execution_count": 7,
   "id": "6e464cb5",
   "metadata": {
    "execution": {
     "iopub.execute_input": "2022-07-22T09:32:02.581993Z",
     "iopub.status.busy": "2022-07-22T09:32:02.581612Z",
     "iopub.status.idle": "2022-07-22T09:32:02.585882Z",
     "shell.execute_reply": "2022-07-22T09:32:02.584811Z"
    },
    "papermill": {
     "duration": 0.013156,
     "end_time": "2022-07-22T09:32:02.588031",
     "exception": false,
     "start_time": "2022-07-22T09:32:02.574875",
     "status": "completed"
    },
    "tags": []
   },
   "outputs": [],
   "source": [
    "#q3.hint()\n",
    "#q3.solution()"
   ]
  },
  {
   "cell_type": "markdown",
   "id": "06fc9439",
   "metadata": {
    "papermill": {
     "duration": 0.005256,
     "end_time": "2022-07-22T09:32:02.599666",
     "exception": false,
     "start_time": "2022-07-22T09:32:02.594410",
     "status": "completed"
    },
    "tags": []
   },
   "source": [
    "## 4.\n",
    "What are the most expensive wine varieties? Create a variable `sorted_varieties` containing a copy of the dataframe from the previous question where varieties are sorted in descending order based on minimum price, then on maximum price (to break ties)."
   ]
  },
  {
   "cell_type": "code",
   "execution_count": 8,
   "id": "dcc8e26e",
   "metadata": {
    "execution": {
     "iopub.execute_input": "2022-07-22T09:32:02.613076Z",
     "iopub.status.busy": "2022-07-22T09:32:02.612359Z",
     "iopub.status.idle": "2022-07-22T09:32:02.622781Z",
     "shell.execute_reply": "2022-07-22T09:32:02.622049Z"
    },
    "papermill": {
     "duration": 0.019309,
     "end_time": "2022-07-22T09:32:02.624776",
     "exception": false,
     "start_time": "2022-07-22T09:32:02.605467",
     "status": "completed"
    },
    "tags": []
   },
   "outputs": [
    {
     "data": {
      "application/javascript": [
       "parent.postMessage({\"jupyterEvent\": \"custom.exercise_interaction\", \"data\": {\"outcomeType\": 1, \"valueTowardsCompletion\": 0.16666666666666666, \"interactionType\": 1, \"questionType\": 1, \"questionId\": \"4_SortedVarieties\", \"learnToolsVersion\": \"0.3.4\", \"failureMessage\": \"\", \"exceptionClass\": \"\", \"trace\": \"\"}}, \"*\")"
      ],
      "text/plain": [
       "<IPython.core.display.Javascript object>"
      ]
     },
     "metadata": {},
     "output_type": "display_data"
    },
    {
     "data": {
      "text/markdown": [
       "<span style=\"color:#33cc33\">Correct</span>"
      ],
      "text/plain": [
       "Correct"
      ]
     },
     "metadata": {},
     "output_type": "display_data"
    }
   ],
   "source": [
    "sorted_varieties = price_extremes.sort_values(by=['min', 'max'], ascending=False)\n",
    "\n",
    "# Check your answer\n",
    "q4.check()"
   ]
  },
  {
   "cell_type": "code",
   "execution_count": 9,
   "id": "260a1361",
   "metadata": {
    "execution": {
     "iopub.execute_input": "2022-07-22T09:32:02.638363Z",
     "iopub.status.busy": "2022-07-22T09:32:02.637630Z",
     "iopub.status.idle": "2022-07-22T09:32:02.642097Z",
     "shell.execute_reply": "2022-07-22T09:32:02.641158Z"
    },
    "papermill": {
     "duration": 0.01375,
     "end_time": "2022-07-22T09:32:02.644261",
     "exception": false,
     "start_time": "2022-07-22T09:32:02.630511",
     "status": "completed"
    },
    "tags": []
   },
   "outputs": [],
   "source": [
    "#q4.hint()\n",
    "#q4.solution()"
   ]
  },
  {
   "cell_type": "markdown",
   "id": "12fb366f",
   "metadata": {
    "papermill": {
     "duration": 0.005431,
     "end_time": "2022-07-22T09:32:02.655597",
     "exception": false,
     "start_time": "2022-07-22T09:32:02.650166",
     "status": "completed"
    },
    "tags": []
   },
   "source": [
    "## 5.\n",
    "Create a `Series` whose index is reviewers and whose values is the average review score given out by that reviewer. Hint: you will need the `taster_name` and `points` columns."
   ]
  },
  {
   "cell_type": "code",
   "execution_count": 10,
   "id": "3ec88c71",
   "metadata": {
    "execution": {
     "iopub.execute_input": "2022-07-22T09:32:02.669096Z",
     "iopub.status.busy": "2022-07-22T09:32:02.668316Z",
     "iopub.status.idle": "2022-07-22T09:32:02.688301Z",
     "shell.execute_reply": "2022-07-22T09:32:02.687356Z"
    },
    "papermill": {
     "duration": 0.028979,
     "end_time": "2022-07-22T09:32:02.690304",
     "exception": false,
     "start_time": "2022-07-22T09:32:02.661325",
     "status": "completed"
    },
    "tags": []
   },
   "outputs": [
    {
     "data": {
      "application/javascript": [
       "parent.postMessage({\"jupyterEvent\": \"custom.exercise_interaction\", \"data\": {\"outcomeType\": 1, \"valueTowardsCompletion\": 0.16666666666666666, \"interactionType\": 1, \"questionType\": 1, \"questionId\": \"5_ReviewerMeanRatings\", \"learnToolsVersion\": \"0.3.4\", \"failureMessage\": \"\", \"exceptionClass\": \"\", \"trace\": \"\"}}, \"*\")"
      ],
      "text/plain": [
       "<IPython.core.display.Javascript object>"
      ]
     },
     "metadata": {},
     "output_type": "display_data"
    },
    {
     "data": {
      "text/markdown": [
       "<span style=\"color:#33cc33\">Correct</span>"
      ],
      "text/plain": [
       "Correct"
      ]
     },
     "metadata": {},
     "output_type": "display_data"
    }
   ],
   "source": [
    "#p=reviews.groupby('taster_name')\n",
    "reviewer_mean_ratings = reviews.groupby('taster_name').points.mean()\n",
    "\n",
    "# Check your answer\n",
    "q5.check()"
   ]
  },
  {
   "cell_type": "code",
   "execution_count": 11,
   "id": "31959484",
   "metadata": {
    "execution": {
     "iopub.execute_input": "2022-07-22T09:32:02.703280Z",
     "iopub.status.busy": "2022-07-22T09:32:02.702917Z",
     "iopub.status.idle": "2022-07-22T09:32:02.707527Z",
     "shell.execute_reply": "2022-07-22T09:32:02.706624Z"
    },
    "papermill": {
     "duration": 0.013609,
     "end_time": "2022-07-22T09:32:02.709651",
     "exception": false,
     "start_time": "2022-07-22T09:32:02.696042",
     "status": "completed"
    },
    "tags": []
   },
   "outputs": [],
   "source": [
    "#reviewer_mean_ratings.count()"
   ]
  },
  {
   "cell_type": "code",
   "execution_count": 12,
   "id": "61db1fa2",
   "metadata": {
    "execution": {
     "iopub.execute_input": "2022-07-22T09:32:02.723939Z",
     "iopub.status.busy": "2022-07-22T09:32:02.722811Z",
     "iopub.status.idle": "2022-07-22T09:32:02.727516Z",
     "shell.execute_reply": "2022-07-22T09:32:02.726778Z"
    },
    "papermill": {
     "duration": 0.013875,
     "end_time": "2022-07-22T09:32:02.729565",
     "exception": false,
     "start_time": "2022-07-22T09:32:02.715690",
     "status": "completed"
    },
    "tags": []
   },
   "outputs": [],
   "source": [
    "#q5.hint()\n",
    "#q5.solution()"
   ]
  },
  {
   "cell_type": "markdown",
   "id": "f9ea6fc3",
   "metadata": {
    "papermill": {
     "duration": 0.005689,
     "end_time": "2022-07-22T09:32:02.740962",
     "exception": false,
     "start_time": "2022-07-22T09:32:02.735273",
     "status": "completed"
    },
    "tags": []
   },
   "source": [
    "Are there significant differences in the average scores assigned by the various reviewers? Run the cell below to use the `describe()` method to see a summary of the range of values."
   ]
  },
  {
   "cell_type": "code",
   "execution_count": 13,
   "id": "263707db",
   "metadata": {
    "execution": {
     "iopub.execute_input": "2022-07-22T09:32:02.755115Z",
     "iopub.status.busy": "2022-07-22T09:32:02.753966Z",
     "iopub.status.idle": "2022-07-22T09:32:02.766290Z",
     "shell.execute_reply": "2022-07-22T09:32:02.765154Z"
    },
    "papermill": {
     "duration": 0.021753,
     "end_time": "2022-07-22T09:32:02.768536",
     "exception": false,
     "start_time": "2022-07-22T09:32:02.746783",
     "status": "completed"
    },
    "tags": []
   },
   "outputs": [
    {
     "data": {
      "text/plain": [
       "count    19.000000\n",
       "mean     88.233026\n",
       "std       1.243610\n",
       "min      85.855422\n",
       "25%      87.323501\n",
       "50%      88.536235\n",
       "75%      88.975256\n",
       "max      90.562551\n",
       "Name: points, dtype: float64"
      ]
     },
     "execution_count": 13,
     "metadata": {},
     "output_type": "execute_result"
    }
   ],
   "source": [
    "reviewer_mean_ratings.describe()"
   ]
  },
  {
   "cell_type": "markdown",
   "id": "3441cb5f",
   "metadata": {
    "papermill": {
     "duration": 0.005842,
     "end_time": "2022-07-22T09:32:02.780451",
     "exception": false,
     "start_time": "2022-07-22T09:32:02.774609",
     "status": "completed"
    },
    "tags": []
   },
   "source": [
    "## 6.\n",
    "What combination of countries and varieties are most common? Create a `Series` whose index is a `MultiIndex`of `{country, variety}` pairs. For example, a pinot noir produced in the US should map to `{\"US\", \"Pinot Noir\"}`. Sort the values in the `Series` in descending order based on wine count."
   ]
  },
  {
   "cell_type": "code",
   "execution_count": 14,
   "id": "01b704e7",
   "metadata": {
    "execution": {
     "iopub.execute_input": "2022-07-22T09:32:02.794219Z",
     "iopub.status.busy": "2022-07-22T09:32:02.793874Z",
     "iopub.status.idle": "2022-07-22T09:32:02.829450Z",
     "shell.execute_reply": "2022-07-22T09:32:02.828541Z"
    },
    "papermill": {
     "duration": 0.044799,
     "end_time": "2022-07-22T09:32:02.831381",
     "exception": false,
     "start_time": "2022-07-22T09:32:02.786582",
     "status": "completed"
    },
    "tags": []
   },
   "outputs": [
    {
     "data": {
      "application/javascript": [
       "parent.postMessage({\"jupyterEvent\": \"custom.exercise_interaction\", \"data\": {\"outcomeType\": 1, \"valueTowardsCompletion\": 0.16666666666666666, \"interactionType\": 1, \"questionType\": 1, \"questionId\": \"6_GroupbyCountryVariety\", \"learnToolsVersion\": \"0.3.4\", \"failureMessage\": \"\", \"exceptionClass\": \"\", \"trace\": \"\"}}, \"*\")"
      ],
      "text/plain": [
       "<IPython.core.display.Javascript object>"
      ]
     },
     "metadata": {},
     "output_type": "display_data"
    },
    {
     "data": {
      "text/markdown": [
       "<span style=\"color:#33cc33\">Correct</span>"
      ],
      "text/plain": [
       "Correct"
      ]
     },
     "metadata": {},
     "output_type": "display_data"
    }
   ],
   "source": [
    "country_variety_counts = reviews.groupby(['country', 'variety']).size().sort_values( ascending=False)\n",
    "\n",
    "# Check your answer\n",
    "q6.check()"
   ]
  },
  {
   "cell_type": "code",
   "execution_count": 15,
   "id": "545e8bd7",
   "metadata": {
    "execution": {
     "iopub.execute_input": "2022-07-22T09:32:02.845037Z",
     "iopub.status.busy": "2022-07-22T09:32:02.844643Z",
     "iopub.status.idle": "2022-07-22T09:32:02.848910Z",
     "shell.execute_reply": "2022-07-22T09:32:02.847744Z"
    },
    "papermill": {
     "duration": 0.013436,
     "end_time": "2022-07-22T09:32:02.850873",
     "exception": false,
     "start_time": "2022-07-22T09:32:02.837437",
     "status": "completed"
    },
    "tags": []
   },
   "outputs": [],
   "source": [
    "#q6.hint()\n",
    "#q6.solution()"
   ]
  },
  {
   "cell_type": "markdown",
   "id": "87a468d2",
   "metadata": {
    "papermill": {
     "duration": 0.005801,
     "end_time": "2022-07-22T09:32:02.862720",
     "exception": false,
     "start_time": "2022-07-22T09:32:02.856919",
     "status": "completed"
    },
    "tags": []
   },
   "source": [
    "# Keep going\n",
    "\n",
    "Move on to the [**data types and missing data**](https://www.kaggle.com/residentmario/data-types-and-missing-values)."
   ]
  },
  {
   "cell_type": "markdown",
   "id": "dde0fc6d",
   "metadata": {
    "papermill": {
     "duration": 0.005806,
     "end_time": "2022-07-22T09:32:02.874636",
     "exception": false,
     "start_time": "2022-07-22T09:32:02.868830",
     "status": "completed"
    },
    "tags": []
   },
   "source": [
    "---\n",
    "\n",
    "\n",
    "\n",
    "\n",
    "*Have questions or comments? Visit the [course discussion forum](https://www.kaggle.com/learn/pandas/discussion) to chat with other learners.*"
   ]
  }
 ],
 "metadata": {
  "kernelspec": {
   "display_name": "Python 3",
   "language": "python",
   "name": "python3"
  },
  "language_info": {
   "codemirror_mode": {
    "name": "ipython",
    "version": 3
   },
   "file_extension": ".py",
   "mimetype": "text/x-python",
   "name": "python",
   "nbconvert_exporter": "python",
   "pygments_lexer": "ipython3",
   "version": "3.7.12"
  },
  "papermill": {
   "default_parameters": {},
   "duration": 12.790346,
   "end_time": "2022-07-22T09:32:03.500948",
   "environment_variables": {},
   "exception": null,
   "input_path": "__notebook__.ipynb",
   "output_path": "__notebook__.ipynb",
   "parameters": {},
   "start_time": "2022-07-22T09:31:50.710602",
   "version": "2.3.4"
  }
 },
 "nbformat": 4,
 "nbformat_minor": 5
}
