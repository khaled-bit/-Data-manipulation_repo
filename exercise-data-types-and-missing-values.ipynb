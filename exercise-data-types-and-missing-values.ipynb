{
 "cells": [
  {
   "cell_type": "markdown",
   "id": "ffb9f344",
   "metadata": {
    "papermill": {
     "duration": 0.005819,
     "end_time": "2022-07-20T22:10:20.897808",
     "exception": false,
     "start_time": "2022-07-20T22:10:20.891989",
     "status": "completed"
    },
    "tags": []
   },
   "source": [
    "**This notebook is an exercise in the [Pandas](https://www.kaggle.com/learn/pandas) course.  You can reference the tutorial at [this link](https://www.kaggle.com/residentmario/data-types-and-missing-values).**\n",
    "\n",
    "---\n"
   ]
  },
  {
   "cell_type": "markdown",
   "id": "b5538a16",
   "metadata": {
    "papermill": {
     "duration": 0.004419,
     "end_time": "2022-07-20T22:10:20.907294",
     "exception": false,
     "start_time": "2022-07-20T22:10:20.902875",
     "status": "completed"
    },
    "tags": []
   },
   "source": [
    "# Introduction\n",
    "\n",
    "Run the following cell to load your data and some utility functions."
   ]
  },
  {
   "cell_type": "code",
   "execution_count": 1,
   "id": "e2274b53",
   "metadata": {
    "execution": {
     "iopub.execute_input": "2022-07-20T22:10:20.918721Z",
     "iopub.status.busy": "2022-07-20T22:10:20.918274Z",
     "iopub.status.idle": "2022-07-20T22:10:23.933342Z",
     "shell.execute_reply": "2022-07-20T22:10:23.932438Z"
    },
    "papermill": {
     "duration": 3.023785,
     "end_time": "2022-07-20T22:10:23.935784",
     "exception": false,
     "start_time": "2022-07-20T22:10:20.911999",
     "status": "completed"
    },
    "tags": []
   },
   "outputs": [
    {
     "name": "stdout",
     "output_type": "stream",
     "text": [
      "Setup complete.\n"
     ]
    }
   ],
   "source": [
    "import pandas as pd\n",
    "\n",
    "reviews = pd.read_csv(\"../input/wine-reviews/winemag-data-130k-v2.csv\", index_col=0)\n",
    "\n",
    "from learntools.core import binder; binder.bind(globals())\n",
    "from learntools.pandas.data_types_and_missing_data import *\n",
    "print(\"Setup complete.\")"
   ]
  },
  {
   "cell_type": "markdown",
   "id": "0d6ac12a",
   "metadata": {
    "papermill": {
     "duration": 0.004517,
     "end_time": "2022-07-20T22:10:23.945442",
     "exception": false,
     "start_time": "2022-07-20T22:10:23.940925",
     "status": "completed"
    },
    "tags": []
   },
   "source": [
    "# Exercises"
   ]
  },
  {
   "cell_type": "markdown",
   "id": "03e2a4c3",
   "metadata": {
    "papermill": {
     "duration": 0.004496,
     "end_time": "2022-07-20T22:10:23.954649",
     "exception": false,
     "start_time": "2022-07-20T22:10:23.950153",
     "status": "completed"
    },
    "tags": []
   },
   "source": [
    "## 1. \n",
    "What is the data type of the `points` column in the dataset?"
   ]
  },
  {
   "cell_type": "code",
   "execution_count": 2,
   "id": "75affa0b",
   "metadata": {
    "execution": {
     "iopub.execute_input": "2022-07-20T22:10:23.966768Z",
     "iopub.status.busy": "2022-07-20T22:10:23.966042Z",
     "iopub.status.idle": "2022-07-20T22:10:23.978197Z",
     "shell.execute_reply": "2022-07-20T22:10:23.976966Z"
    },
    "papermill": {
     "duration": 0.020817,
     "end_time": "2022-07-20T22:10:23.980397",
     "exception": false,
     "start_time": "2022-07-20T22:10:23.959580",
     "status": "completed"
    },
    "tags": []
   },
   "outputs": [
    {
     "data": {
      "application/javascript": [
       "parent.postMessage({\"jupyterEvent\": \"custom.exercise_interaction\", \"data\": {\"outcomeType\": 1, \"valueTowardsCompletion\": 0.25, \"interactionType\": 1, \"questionType\": 1, \"questionId\": \"1_PointsDtype\", \"learnToolsVersion\": \"0.3.4\", \"failureMessage\": \"\", \"exceptionClass\": \"\", \"trace\": \"\"}}, \"*\")"
      ],
      "text/plain": [
       "<IPython.core.display.Javascript object>"
      ]
     },
     "metadata": {},
     "output_type": "display_data"
    },
    {
     "data": {
      "text/markdown": [
       "<span style=\"color:#33cc33\">Correct</span>"
      ],
      "text/plain": [
       "Correct"
      ]
     },
     "metadata": {},
     "output_type": "display_data"
    }
   ],
   "source": [
    "# Your code here\n",
    "dtype = reviews.points.dtype\n",
    "\n",
    "# Check your answer\n",
    "q1.check()"
   ]
  },
  {
   "cell_type": "code",
   "execution_count": 3,
   "id": "d57f46a8",
   "metadata": {
    "execution": {
     "iopub.execute_input": "2022-07-20T22:10:23.993334Z",
     "iopub.status.busy": "2022-07-20T22:10:23.992935Z",
     "iopub.status.idle": "2022-07-20T22:10:23.997344Z",
     "shell.execute_reply": "2022-07-20T22:10:23.996183Z"
    },
    "papermill": {
     "duration": 0.013635,
     "end_time": "2022-07-20T22:10:23.999505",
     "exception": false,
     "start_time": "2022-07-20T22:10:23.985870",
     "status": "completed"
    },
    "tags": []
   },
   "outputs": [],
   "source": [
    "#q1.hint()\n",
    "#q1.solution()"
   ]
  },
  {
   "cell_type": "markdown",
   "id": "83c96953",
   "metadata": {
    "papermill": {
     "duration": 0.004902,
     "end_time": "2022-07-20T22:10:24.009752",
     "exception": false,
     "start_time": "2022-07-20T22:10:24.004850",
     "status": "completed"
    },
    "tags": []
   },
   "source": [
    "## 2. \n",
    "Create a Series from entries in the `points` column, but convert the entries to strings. Hint: strings are `str` in native Python."
   ]
  },
  {
   "cell_type": "code",
   "execution_count": 4,
   "id": "d9eb8197",
   "metadata": {
    "execution": {
     "iopub.execute_input": "2022-07-20T22:10:24.021909Z",
     "iopub.status.busy": "2022-07-20T22:10:24.021467Z",
     "iopub.status.idle": "2022-07-20T22:10:24.163375Z",
     "shell.execute_reply": "2022-07-20T22:10:24.162127Z"
    },
    "papermill": {
     "duration": 0.151352,
     "end_time": "2022-07-20T22:10:24.166252",
     "exception": false,
     "start_time": "2022-07-20T22:10:24.014900",
     "status": "completed"
    },
    "tags": []
   },
   "outputs": [
    {
     "data": {
      "application/javascript": [
       "parent.postMessage({\"jupyterEvent\": \"custom.exercise_interaction\", \"data\": {\"outcomeType\": 1, \"valueTowardsCompletion\": 0.25, \"interactionType\": 1, \"questionType\": 1, \"questionId\": \"2_StrPoints\", \"learnToolsVersion\": \"0.3.4\", \"failureMessage\": \"\", \"exceptionClass\": \"\", \"trace\": \"\"}}, \"*\")"
      ],
      "text/plain": [
       "<IPython.core.display.Javascript object>"
      ]
     },
     "metadata": {},
     "output_type": "display_data"
    },
    {
     "data": {
      "text/markdown": [
       "<span style=\"color:#33cc33\">Correct</span>"
      ],
      "text/plain": [
       "Correct"
      ]
     },
     "metadata": {},
     "output_type": "display_data"
    }
   ],
   "source": [
    "point_strings =  reviews.points.astype('str')\n",
    "\n",
    "# Check your answer\n",
    "q2.check()"
   ]
  },
  {
   "cell_type": "code",
   "execution_count": 5,
   "id": "bab0e3c4",
   "metadata": {
    "execution": {
     "iopub.execute_input": "2022-07-20T22:10:24.178879Z",
     "iopub.status.busy": "2022-07-20T22:10:24.178469Z",
     "iopub.status.idle": "2022-07-20T22:10:24.183083Z",
     "shell.execute_reply": "2022-07-20T22:10:24.181895Z"
    },
    "papermill": {
     "duration": 0.013313,
     "end_time": "2022-07-20T22:10:24.185071",
     "exception": false,
     "start_time": "2022-07-20T22:10:24.171758",
     "status": "completed"
    },
    "tags": []
   },
   "outputs": [],
   "source": [
    "#q2.hint()\n",
    "#q2.solution()"
   ]
  },
  {
   "cell_type": "markdown",
   "id": "192dc3cb",
   "metadata": {
    "papermill": {
     "duration": 0.006072,
     "end_time": "2022-07-20T22:10:24.196893",
     "exception": false,
     "start_time": "2022-07-20T22:10:24.190821",
     "status": "completed"
    },
    "tags": []
   },
   "source": [
    "## 3.\n",
    "Sometimes the price column is null. How many reviews in the dataset are missing a price?"
   ]
  },
  {
   "cell_type": "code",
   "execution_count": 6,
   "id": "77b58860",
   "metadata": {
    "execution": {
     "iopub.execute_input": "2022-07-20T22:10:24.210441Z",
     "iopub.status.busy": "2022-07-20T22:10:24.209560Z",
     "iopub.status.idle": "2022-07-20T22:10:24.218535Z",
     "shell.execute_reply": "2022-07-20T22:10:24.217639Z"
    },
    "papermill": {
     "duration": 0.017998,
     "end_time": "2022-07-20T22:10:24.220795",
     "exception": false,
     "start_time": "2022-07-20T22:10:24.202797",
     "status": "completed"
    },
    "tags": []
   },
   "outputs": [
    {
     "data": {
      "application/javascript": [
       "parent.postMessage({\"jupyterEvent\": \"custom.exercise_interaction\", \"data\": {\"outcomeType\": 1, \"valueTowardsCompletion\": 0.25, \"interactionType\": 1, \"questionType\": 1, \"questionId\": \"3_CountMissingPrices\", \"learnToolsVersion\": \"0.3.4\", \"failureMessage\": \"\", \"exceptionClass\": \"\", \"trace\": \"\"}}, \"*\")"
      ],
      "text/plain": [
       "<IPython.core.display.Javascript object>"
      ]
     },
     "metadata": {},
     "output_type": "display_data"
    },
    {
     "data": {
      "text/markdown": [
       "<span style=\"color:#33cc33\">Correct</span>"
      ],
      "text/plain": [
       "Correct"
      ]
     },
     "metadata": {},
     "output_type": "display_data"
    }
   ],
   "source": [
    "n_missing_prices =  reviews.price.isnull().sum()\n",
    "\n",
    "\n",
    "\n",
    "# Check your answer\n",
    "q3.check()"
   ]
  },
  {
   "cell_type": "code",
   "execution_count": 7,
   "id": "a259d95f",
   "metadata": {
    "execution": {
     "iopub.execute_input": "2022-07-20T22:10:24.234392Z",
     "iopub.status.busy": "2022-07-20T22:10:24.233724Z",
     "iopub.status.idle": "2022-07-20T22:10:24.240591Z",
     "shell.execute_reply": "2022-07-20T22:10:24.239781Z"
    },
    "papermill": {
     "duration": 0.016323,
     "end_time": "2022-07-20T22:10:24.242910",
     "exception": false,
     "start_time": "2022-07-20T22:10:24.226587",
     "status": "completed"
    },
    "tags": []
   },
   "outputs": [
    {
     "data": {
      "application/javascript": [
       "parent.postMessage({\"jupyterEvent\": \"custom.exercise_interaction\", \"data\": {\"interactionType\": 3, \"questionType\": 1, \"questionId\": \"3_CountMissingPrices\", \"learnToolsVersion\": \"0.3.4\", \"valueTowardsCompletion\": 0.0, \"failureMessage\": \"\", \"exceptionClass\": \"\", \"trace\": \"\", \"outcomeType\": 4}}, \"*\")"
      ],
      "text/plain": [
       "<IPython.core.display.Javascript object>"
      ]
     },
     "metadata": {},
     "output_type": "display_data"
    },
    {
     "data": {
      "text/markdown": [
       "<span style=\"color:#33cc99\">Solution:</span> \n",
       "```python\n",
       "missing_price_reviews = reviews[reviews.price.isnull()]\n",
       "n_missing_prices = len(missing_price_reviews)\n",
       "# Cute alternative solution: if we sum a boolean series, True is treated as 1 and False as 0\n",
       "n_missing_prices = reviews.price.isnull().sum()\n",
       "# or equivalently:\n",
       "n_missing_prices = pd.isnull(reviews.price).sum()\n",
       "\n",
       "```"
      ],
      "text/plain": [
       "Solution: \n",
       "```python\n",
       "missing_price_reviews = reviews[reviews.price.isnull()]\n",
       "n_missing_prices = len(missing_price_reviews)\n",
       "# Cute alternative solution: if we sum a boolean series, True is treated as 1 and False as 0\n",
       "n_missing_prices = reviews.price.isnull().sum()\n",
       "# or equivalently:\n",
       "n_missing_prices = pd.isnull(reviews.price).sum()\n",
       "\n",
       "```"
      ]
     },
     "metadata": {},
     "output_type": "display_data"
    }
   ],
   "source": [
    "#q3.hint()\n",
    "q3.solution()"
   ]
  },
  {
   "cell_type": "markdown",
   "id": "ac1eca4e",
   "metadata": {
    "papermill": {
     "duration": 0.005884,
     "end_time": "2022-07-20T22:10:24.254954",
     "exception": false,
     "start_time": "2022-07-20T22:10:24.249070",
     "status": "completed"
    },
    "tags": []
   },
   "source": [
    "## 4.\n",
    "What are the most common wine-producing regions? Create a Series counting the number of times each value occurs in the `region_1` field. This field is often missing data, so replace missing values with `Unknown`. Sort in descending order.  Your output should look something like this:\n",
    "\n",
    "```\n",
    "Unknown                    21247\n",
    "Napa Valley                 4480\n",
    "                           ...  \n",
    "Bardolino Superiore            1\n",
    "Primitivo del Tarantino        1\n",
    "Name: region_1, Length: 1230, dtype: int64\n",
    "```"
   ]
  },
  {
   "cell_type": "code",
   "execution_count": 8,
   "id": "a9ea8fd3",
   "metadata": {
    "execution": {
     "iopub.execute_input": "2022-07-20T22:10:24.269233Z",
     "iopub.status.busy": "2022-07-20T22:10:24.268550Z",
     "iopub.status.idle": "2022-07-20T22:10:24.344819Z",
     "shell.execute_reply": "2022-07-20T22:10:24.343758Z"
    },
    "papermill": {
     "duration": 0.086088,
     "end_time": "2022-07-20T22:10:24.347134",
     "exception": false,
     "start_time": "2022-07-20T22:10:24.261046",
     "status": "completed"
    },
    "tags": []
   },
   "outputs": [
    {
     "data": {
      "application/javascript": [
       "parent.postMessage({\"jupyterEvent\": \"custom.exercise_interaction\", \"data\": {\"outcomeType\": 1, \"valueTowardsCompletion\": 0.25, \"interactionType\": 1, \"questionType\": 2, \"questionId\": \"4_ReviewsPerRegion\", \"learnToolsVersion\": \"0.3.4\", \"failureMessage\": \"\", \"exceptionClass\": \"\", \"trace\": \"\"}}, \"*\")"
      ],
      "text/plain": [
       "<IPython.core.display.Javascript object>"
      ]
     },
     "metadata": {},
     "output_type": "display_data"
    },
    {
     "data": {
      "text/markdown": [
       "<span style=\"color:#33cc33\">Correct</span>"
      ],
      "text/plain": [
       "Correct"
      ]
     },
     "metadata": {},
     "output_type": "display_data"
    }
   ],
   "source": [
    "reviews_per_region =  reviews.region_1.fillna(\"Unknown\").value_counts().sort_values(ascending=False)\n",
    "\n",
    "# Check your answer\n",
    "q4.check()"
   ]
  },
  {
   "cell_type": "code",
   "execution_count": 9,
   "id": "fc839c3b",
   "metadata": {
    "execution": {
     "iopub.execute_input": "2022-07-20T22:10:24.361760Z",
     "iopub.status.busy": "2022-07-20T22:10:24.361359Z",
     "iopub.status.idle": "2022-07-20T22:10:24.366250Z",
     "shell.execute_reply": "2022-07-20T22:10:24.365095Z"
    },
    "papermill": {
     "duration": 0.015196,
     "end_time": "2022-07-20T22:10:24.368544",
     "exception": false,
     "start_time": "2022-07-20T22:10:24.353348",
     "status": "completed"
    },
    "tags": []
   },
   "outputs": [],
   "source": [
    "#q4.hint()\n",
    "#q4.solution()"
   ]
  },
  {
   "cell_type": "markdown",
   "id": "26a96354",
   "metadata": {
    "papermill": {
     "duration": 0.006244,
     "end_time": "2022-07-20T22:10:24.381494",
     "exception": false,
     "start_time": "2022-07-20T22:10:24.375250",
     "status": "completed"
    },
    "tags": []
   },
   "source": [
    "# Keep going\n",
    "\n",
    "Move on to **[renaming and combining](https://www.kaggle.com/residentmario/renaming-and-combining)**."
   ]
  },
  {
   "cell_type": "markdown",
   "id": "7e110869",
   "metadata": {
    "papermill": {
     "duration": 0.005788,
     "end_time": "2022-07-20T22:10:24.393540",
     "exception": false,
     "start_time": "2022-07-20T22:10:24.387752",
     "status": "completed"
    },
    "tags": []
   },
   "source": [
    "---\n",
    "\n",
    "\n",
    "\n",
    "\n",
    "*Have questions or comments? Visit the [course discussion forum](https://www.kaggle.com/learn/pandas/discussion) to chat with other learners.*"
   ]
  }
 ],
 "metadata": {
  "kernelspec": {
   "display_name": "Python 3",
   "language": "python",
   "name": "python3"
  },
  "language_info": {
   "codemirror_mode": {
    "name": "ipython",
    "version": 3
   },
   "file_extension": ".py",
   "mimetype": "text/x-python",
   "name": "python",
   "nbconvert_exporter": "python",
   "pygments_lexer": "ipython3",
   "version": "3.7.12"
  },
  "papermill": {
   "default_parameters": {},
   "duration": 14.32557,
   "end_time": "2022-07-20T22:10:25.121563",
   "environment_variables": {},
   "exception": null,
   "input_path": "__notebook__.ipynb",
   "output_path": "__notebook__.ipynb",
   "parameters": {},
   "start_time": "2022-07-20T22:10:10.795993",
   "version": "2.3.4"
  }
 },
 "nbformat": 4,
 "nbformat_minor": 5
}
